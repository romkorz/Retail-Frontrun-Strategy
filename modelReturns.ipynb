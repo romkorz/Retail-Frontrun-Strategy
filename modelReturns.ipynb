{
 "cells": [
  {
   "cell_type": "code",
   "execution_count": null,
   "id": "initial_id",
   "metadata": {
    "collapsed": true
   },
   "outputs": [],
   "source": [
    "import pandas as pd, numpy as np, matplotlib.pyplot as plt\n",
    "\n",
    "def load(fp):\n",
    "    df = pd.read_csv(fp, encoding='utf-8-sig', parse_dates=['Time(UTC)'])\n",
    "    df.columns = df.columns.str.strip()\n",
    "    df = df.sort_values('Time(UTC)')\n",
    "\n",
    "    clean = lambda s: s.astype(str).str.replace(r'[^\\d\\.\\-eE]', '', regex=True)\n",
    "    if 'Fee' in df:\n",
    "        df['Fee'] = pd.to_numeric(clean(df['Fee']), errors='coerce')\n",
    "    df['Realized Profit'] = pd.to_numeric(clean(df['Realized Profit']), errors='coerce')\n",
    "\n",
    "    df['Time(UTC)'] = df['Time(UTC)'].dt.tz_localize('UTC')\n",
    "    return df"
   ]
  },
  {
   "cell_type": "code",
   "outputs": [],
   "source": [
    "def net(df):\n",
    "    df['net_pnl'] = df['Realized Profit'] + df.get('Fee', 0.0)\n",
    "    df['cum_pnl'] = df['net_pnl'].cumsum()\n",
    "    return df"
   ],
   "metadata": {
    "collapsed": false
   },
   "id": "676a82ea26217ed7",
   "execution_count": null
  },
  {
   "cell_type": "code",
   "outputs": [],
   "source": [
    "daily = lambda d: d.set_index('Time(UTC)')['net_pnl'].resample('D').sum().loc[lambda x: x != 0]\n",
    "\n",
    "fp, cap = 'binance_tradehistory.csv', 1000000\n",
    "df = net(load(fp)); dr = daily(df) / cap\n",
    "s = np.sqrt(365) * dr.mean() / dr.std(ddof=1) if len(dr) > 1 and dr.std(ddof=1) else np.nan\n",
    "\n",
    "plt.figure(figsize=(12, 6))\n",
    "plt.plot(df['Time(UTC)'].to_numpy(), df['cum_pnl'].to_numpy(),\n",
    "         label=f'Equity Curve (Sharpe: {s:.2f})')\n",
    "plt.title('Frontrun Strategy — Live Returns')\n",
    "plt.xlabel('Date (UTC)'); plt.ylabel('Cumulative PnL')\n",
    "plt.grid(True); plt.legend(); plt.tight_layout(); plt.show()"
   ],
   "metadata": {
    "collapsed": false
   },
   "id": "9cfa3fb83b1d8489",
   "execution_count": null
  },
  {
   "cell_type": "code",
   "outputs": [],
   "source": [],
   "metadata": {
    "collapsed": false
   },
   "id": "ef8835a5c1f43f1b"
  }
 ],
 "metadata": {
  "kernelspec": {
   "display_name": "Python 3",
   "language": "python",
   "name": "python3"
  },
  "language_info": {
   "codemirror_mode": {
    "name": "ipython",
    "version": 2
   },
   "file_extension": ".py",
   "mimetype": "text/x-python",
   "name": "python",
   "nbconvert_exporter": "python",
   "pygments_lexer": "ipython2",
   "version": "2.7.6"
  }
 },
 "nbformat": 4,
 "nbformat_minor": 5
}
